{
 "cells": [
  {
   "cell_type": "markdown",
   "metadata": {},
   "source": [
    "### Part 1: String Generation and Saving in Two file"
   ]
  },
  {
   "cell_type": "code",
   "execution_count": 102,
   "metadata": {},
   "outputs": [],
   "source": [
    "import string\n",
    "import random\n",
    "import sched, time\n",
    "import numpy as np"
   ]
  },
  {
   "cell_type": "code",
   "execution_count": 75,
   "metadata": {},
   "outputs": [],
   "source": [
    "array=[]\n",
    "def specific_string():       \n",
    "        str_a=''.join(random.choices(string.ascii_uppercase, k=10))\n",
    "        str_b=\"CDS\"\n",
    "        array.append(str_a)\n",
    "        array.append(str_b)\n",
    "        "
   ]
  },
  {
   "cell_type": "code",
   "execution_count": 79,
   "metadata": {},
   "outputs": [],
   "source": [
    "n=0"
   ]
  },
  {
   "cell_type": "code",
   "execution_count": 80,
   "metadata": {},
   "outputs": [],
   "source": [
    "timeout=time.time()+60*1\n",
    "words=\"\"\n",
    "while True:\n",
    "    specific_string()\n",
    "    if time.time()>timeout:\n",
    "        n=n+1\n",
    "        for x in array:\n",
    "            words+=x\n",
    "            words+=\" \"\n",
    "        text_file_1= open(\"sample\"+str(n)+\".txt\", \"w\")\n",
    "        text_file_2= open(\"generator\"+str(n)+\".txt\", \"w\")\n",
    "        text_file_1.write(words)\n",
    "        text_file_2.write(words)\n",
    "        text_file_1.close()\n",
    "        text_file_2.close()\n",
    "        break   \n",
    "    time.sleep(5)"
   ]
  },
  {
   "cell_type": "markdown",
   "metadata": {},
   "source": [
    "working in how to automate the file generation in a time interval......."
   ]
  },
  {
   "cell_type": "markdown",
   "metadata": {},
   "source": [
    "### Part 2: reading the file and counting \"CDS\""
   ]
  },
  {
   "cell_type": "code",
   "execution_count": 124,
   "metadata": {},
   "outputs": [
    {
     "name": "stdout",
     "output_type": "stream",
     "text": [
      "value 39\n"
     ]
    }
   ],
   "source": [
    "def count_sample():\n",
    "    m=0\n",
    "    file=open(\"sample9.txt\",\"r\").read()\n",
    "    read_array=file.split()\n",
    "    for x in read_array:\n",
    "        if x==\"CDS\":\n",
    "            m=m+1\n",
    "print (\"value\", m)\n",
    "    "
   ]
  },
  {
   "cell_type": "code",
   "execution_count": 125,
   "metadata": {},
   "outputs": [
    {
     "name": "stdout",
     "output_type": "stream",
     "text": [
      "value 39\n"
     ]
    }
   ],
   "source": [
    "def count_generator():\n",
    "    m=0\n",
    "    file=open(\"generator9.txt\",\"r\").read()\n",
    "    read_array=file.split()\n",
    "    for x in read_array:\n",
    "        if x==\"CDS\":\n",
    "            m=m+1\n",
    "print (\"value\", m)"
   ]
  },
  {
   "cell_type": "markdown",
   "metadata": {},
   "source": [
    "working on how to automate the reading and counting on a time interval"
   ]
  }
 ],
 "metadata": {
  "kernelspec": {
   "display_name": "Python 3",
   "language": "python",
   "name": "python3"
  },
  "language_info": {
   "codemirror_mode": {
    "name": "ipython",
    "version": 3
   },
   "file_extension": ".py",
   "mimetype": "text/x-python",
   "name": "python",
   "nbconvert_exporter": "python",
   "pygments_lexer": "ipython3",
   "version": "3.7.4"
  }
 },
 "nbformat": 4,
 "nbformat_minor": 2
}
